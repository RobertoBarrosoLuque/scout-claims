{
 "cells": [
  {
   "cell_type": "markdown",
   "id": "0",
   "metadata": {},
   "source": [
    "# Building with FireworksAI\n",
    "\n",
    "This notebook goes through the building blocks to creating magical AI applications with FireworksAI. We will run through the following tasks:\n",
    "1. Setting up dependencies\n",
    "2. Calling an LLM and getting a response\n",
    "3. Calling an LLM with structured outputs\n",
    "4. Using function calling with an LLM\n",
    "5. Calling a VLM\n",
    "\n",
    "After that we will go through a couple of exercises:\n",
    "1. Adding a function for function calling\n",
    "2. Building your own structured output\n",
    "3. Bonus: Using grammar models with FireworksAI\n"
   ]
  },
  {
   "cell_type": "markdown",
   "id": "1",
   "metadata": {},
   "source": [
    "### 1. Setting up dependencies"
   ]
  },
  {
   "cell_type": "code",
   "execution_count": null,
   "id": "2",
   "metadata": {},
   "outputs": [],
   "source": [
    "!pip install fireworks-ai\n",
    "# To setup the dependencies for the full demo, follow the instruction in the README"
   ]
  },
  {
   "cell_type": "code",
   "execution_count": null,
   "id": "3",
   "metadata": {},
   "outputs": [],
   "source": [
    "### 3. Setting up dependencies\n"
   ]
  }
 ],
 "metadata": {
  "kernelspec": {
   "display_name": "Python 3",
   "language": "python",
   "name": "python3"
  },
  "language_info": {
   "codemirror_mode": {
    "name": "ipython",
    "version": 2
   },
   "file_extension": ".py",
   "mimetype": "text/x-python",
   "name": "python",
   "nbconvert_exporter": "python",
   "pygments_lexer": "ipython2",
   "version": "2.7.6"
  }
 },
 "nbformat": 4,
 "nbformat_minor": 5
}
